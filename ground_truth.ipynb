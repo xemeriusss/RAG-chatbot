{
 "cells": [
  {
   "cell_type": "code",
   "execution_count": null,
   "id": "b228b705-a4aa-42a3-964d-3b6a197d3925",
   "metadata": {},
   "outputs": [],
   "source": [
    "# We are trying make a simplification to find the relevant document\n",
    "\n",
    "# for each record in FAQ:\n",
    "#    generate 5 questions\n",
    "\n",
    "# Creating the dataset 1000 -> 5000\n",
    "# Gold standart: human made"
   ]
  },
  {
   "cell_type": "markdown",
   "id": "dda75dcc-41bb-48df-b177-491bcf416fe3",
   "metadata": {},
   "source": [
    "The \"simplification\" mentioned could refer to the certainty \n",
    "of having at least one relevant result among the retrieved \n",
    "data because of how the data was generated. Generating five \n",
    "questions from a single FAQ entry simplifies the evaluation \n",
    "of relevance by ensuring at least one question-answer pair is \n",
    "directly related to the original entry. "
   ]
  },
  {
   "cell_type": "code",
   "execution_count": null,
   "id": "63907d42-7563-427a-b6f9-0af5d75ba25d",
   "metadata": {},
   "outputs": [],
   "source": [
    "!pip install tqdm\n",
    "!pip install mistralai"
   ]
  },
  {
   "cell_type": "code",
   "execution_count": null,
   "id": "6ec4809d-8d52-4de5-9cdb-3c73a2260a61",
   "metadata": {},
   "outputs": [],
   "source": [
    "import requests\n",
    "\n",
    "docs_url = 'https://github.com/DataTalksClub/llm-zoomcamp/blob/main/01-intro/documents.json?raw=1'\n",
    "docs_response = requests.get(docs_url)\n",
    "documents_raw = docs_response.json()\n",
    "\n",
    "documents = []\n",
    "\n",
    "for course in documents_raw:\n",
    "    course_name = course['course']\n",
    "\n",
    "    for doc in course['documents']:\n",
    "        doc['course'] = course_name\n",
    "        documents.append(doc)"
   ]
  },
  {
   "cell_type": "code",
   "execution_count": null,
   "id": "e2b838d1-4e82-48a5-a698-16cca87d973b",
   "metadata": {},
   "outputs": [],
   "source": [
    "# Problem is we dont't have an id. When we retrieve them, we need to understand \n",
    "# which document is relevant for this particular query."
   ]
  },
  {
   "cell_type": "markdown",
   "id": "8e954726-8727-4656-b18c-4b894eb62ddd",
   "metadata": {},
   "source": [
    "### Creating unique ids"
   ]
  },
  {
   "cell_type": "code",
   "execution_count": null,
   "id": "2b829aca-2228-4c9d-8a5f-f676f75a1cca",
   "metadata": {},
   "outputs": [],
   "source": [
    "import hashlib \n",
    "\n",
    "def generate_document_id(doc):\n",
    "    combined = f\"{doc['course']}-{doc['question']}-{doc['text'][:10]}\"\n",
    "    hash_obj = hashlib.md5(combined.encode())\n",
    "    hash_hex = hash_obj.hexdigest()\n",
    "    doc_id = hash_hex[:8]\n",
    "    return doc_id\n"
   ]
  },
  {
   "cell_type": "markdown",
   "id": "60f59615-90f7-469a-aaf9-28c58fdda3a4",
   "metadata": {},
   "source": [
    "Example:\n",
    "\n",
    "- Combined will be \"CS101-What is AI?-Artificial \". *(course-question-text[:10])*\n",
    "- The MD5 hash of \"CS101-What is AI?-Artificial \" will be calculated, resulting in a hexadecimal string, e.g., \"e99a18c428cb38d5f260853678922e03\".\n",
    "- The first 8 characters, \"e99a18c4\", will be extracted as the document ID.\n",
    "\n",
    "We didn't give oredered id (like 1,2...) because when I add or delete a question, there can be a mess. That's why, we focus on the content."
   ]
  },
  {
   "cell_type": "code",
   "execution_count": null,
   "id": "4a97bc37-99ab-4041-ba7a-05c940034d9b",
   "metadata": {},
   "outputs": [],
   "source": [
    "for doc in documents:\n",
    "    doc['id'] = generate_document_id(doc)"
   ]
  },
  {
   "cell_type": "code",
   "execution_count": null,
   "id": "9becfd9f-ea16-4417-8c42-d6f7aeaaabc3",
   "metadata": {},
   "outputs": [],
   "source": [
    "import json\n",
    "\n",
    "# To make json file\n",
    "\n",
    "with open('doc_with_ids.json', 'wt') as f_out:\n",
    "    json.dump(documents, f_out, indent=2)"
   ]
  },
  {
   "cell_type": "markdown",
   "id": "fed82eac-2ce1-4b7e-b5b6-e5f5d74d13aa",
   "metadata": {},
   "source": [
    "### LLM"
   ]
  },
  {
   "cell_type": "code",
   "execution_count": null,
   "id": "ca66b7ec-1ebb-4275-ae64-cdaf2f687916",
   "metadata": {},
   "outputs": [],
   "source": [
    "prompt_template = \"\"\"\n",
    "You emulate a student who's taking our course.\n",
    "Formulate 5 questions this student might ask based on a FAQ record. The record\n",
    "should contain the answer to the questions, and the questions should be complete and not too short.\n",
    "If possible, use as fewer words as possible from the record. \n",
    "\n",
    "The record:\n",
    "\n",
    "section: {section}\n",
    "question: {question}\n",
    "answer: {text}\n",
    "\n",
    "Provide the output in parsable JSON without using code blocks:\n",
    "\n",
    "[\"question1\", \"question2\", ..., \"question5\"]\n",
    "\"\"\".strip()"
   ]
  },
  {
   "cell_type": "code",
   "execution_count": null,
   "id": "056ca7e0-0e33-40e4-a440-903f0cbda6a8",
   "metadata": {},
   "outputs": [],
   "source": [
    "import os\n",
    "secret = os.getenv('MISTRAL_API')\n",
    "from mistralai.client import MistralClient\n",
    "from mistralai.models.chat_completion import ChatMessage\n",
    "\n",
    "model = \"mistral-medium-latest\"\n",
    "\n",
    "client = MistralClient(api_key=secret)"
   ]
  },
  {
   "cell_type": "markdown",
   "id": "5287af9d-626c-488b-9a7a-ee98d5b85f6b",
   "metadata": {},
   "source": [
    "### Creating questions for one"
   ]
  },
  {
   "cell_type": "code",
   "execution_count": null,
   "id": "0b1e5fa2-09cb-4036-a14a-2b9737d5a066",
   "metadata": {},
   "outputs": [],
   "source": [
    "def generate_five_questions(doc):\n",
    "    prompt = prompt_template.format(**doc)\n",
    "\n",
    "    chat_response = client.chat(\n",
    "        model=model,\n",
    "        messages=[ChatMessage(role=\"user\", content=prompt)]\n",
    "    )\n",
    "\n",
    "    json_resp = chat_response.choices[0].message.content\n",
    "    return json_resp"
   ]
  },
  {
   "cell_type": "markdown",
   "id": "0e4ec7aa-b074-4c3b-acc6-8c7c2adedd7e",
   "metadata": {},
   "source": [
    "### Creating questions for all"
   ]
  },
  {
   "cell_type": "code",
   "execution_count": null,
   "id": "75537b90-e97b-4ac0-94f4-2c2144612eb6",
   "metadata": {},
   "outputs": [],
   "source": [
    "from tqdm.auto import tqdm"
   ]
  },
  {
   "cell_type": "code",
   "execution_count": null,
   "id": "241261b8-9c23-425c-a064-85f52f403648",
   "metadata": {},
   "outputs": [],
   "source": [
    "results = {} #dictionary\n",
    "\n",
    "for i in range(15):\n",
    "    for doc in tqdm(documents[:15]):\n",
    "        doc_id = doc['id']\n",
    "        if doc_id in results:\n",
    "            continue\n",
    "        questions = generate_five_questions(doc)\n",
    "        results[doc_id] = questions"
   ]
  },
  {
   "cell_type": "code",
   "execution_count": null,
   "id": "f8ae98c4-495c-40ad-bf7f-50043d4610aa",
   "metadata": {},
   "outputs": [],
   "source": [
    "results"
   ]
  },
  {
   "cell_type": "code",
   "execution_count": null,
   "id": "0c231a4d-95b6-45e3-a46b-f7c398b22ecc",
   "metadata": {},
   "outputs": [],
   "source": [
    "parsed_results = {}\n",
    "\n",
    "for doc_id, json_questions in results.items():\n",
    "    parsed_results[doc_id] = json.loads(json_questions)"
   ]
  },
  {
   "cell_type": "code",
   "execution_count": null,
   "id": "842badea-dca8-4340-ba02-d9b5a7452b43",
   "metadata": {},
   "outputs": [],
   "source": [
    "parsed_results"
   ]
  },
  {
   "cell_type": "markdown",
   "id": "b4106c59-6fcd-47fc-97c1-af6aff6b51a9",
   "metadata": {},
   "source": [
    "### Saving to csv"
   ]
  },
  {
   "cell_type": "code",
   "execution_count": null,
   "id": "ab1281ff-5ea3-4d3b-9124-0110a15bb447",
   "metadata": {},
   "outputs": [],
   "source": [
    "documents[3]"
   ]
  },
  {
   "cell_type": "code",
   "execution_count": null,
   "id": "b868bab2-be47-4390-a266-b80d9a7be910",
   "metadata": {},
   "outputs": [],
   "source": [
    "# To quickly look up with the doc_id\n",
    "doc_index = {d['id']: d for d in documents}"
   ]
  },
  {
   "cell_type": "code",
   "execution_count": null,
   "id": "bcc43f8c-1c94-4b14-9cfb-c3b3bb0044e7",
   "metadata": {},
   "outputs": [],
   "source": [
    "doc_index"
   ]
  },
  {
   "cell_type": "code",
   "execution_count": null,
   "id": "bc297c5b-38ba-4569-bacd-7a640c63d0ea",
   "metadata": {},
   "outputs": [],
   "source": [
    "final_results = []\n",
    "\n",
    "for doc_id, questions in parsed_results.items():\n",
    "    course = doc_index[doc_id]['course']\n",
    "    for q in questions: # add the every question\n",
    "        final_results.append((q, course, doc_id))"
   ]
  },
  {
   "cell_type": "code",
   "execution_count": null,
   "id": "568708df-d15f-4b1d-9899-285c24331080",
   "metadata": {},
   "outputs": [],
   "source": [
    "final_results[:10]"
   ]
  },
  {
   "cell_type": "code",
   "execution_count": null,
   "id": "7005f82a-0ce0-4c0f-b259-27cdf52efce8",
   "metadata": {},
   "outputs": [],
   "source": [
    "import pandas as pd\n",
    "\n",
    "# To make csv file\n",
    "df = pd.DataFrame(final_results, columns=['question', 'course', 'doc_id'])"
   ]
  },
  {
   "cell_type": "code",
   "execution_count": null,
   "id": "80265a52-4f7c-4727-a6b7-dcdd4af89640",
   "metadata": {},
   "outputs": [],
   "source": [
    "df.to_csv('ground_truth.csv', index=False)"
   ]
  },
  {
   "cell_type": "code",
   "execution_count": null,
   "id": "bfc7d420-a550-4f6f-a87b-b142cde7f005",
   "metadata": {},
   "outputs": [],
   "source": [
    "df.head()"
   ]
  },
  {
   "cell_type": "markdown",
   "id": "d1950f85-af47-4f08-8df2-75d7a6f3c667",
   "metadata": {},
   "source": [
    "#### Now we can calculate the quality of our search system..."
   ]
  },
  {
   "cell_type": "code",
   "execution_count": null,
   "id": "d63dbd5e-72e0-40a2-84f0-c274d9426026",
   "metadata": {},
   "outputs": [],
   "source": []
  }
 ],
 "metadata": {
  "kernelspec": {
   "display_name": "Python 3 (ipykernel)",
   "language": "python",
   "name": "python3"
  },
  "language_info": {
   "codemirror_mode": {
    "name": "ipython",
    "version": 3
   },
   "file_extension": ".py",
   "mimetype": "text/x-python",
   "name": "python",
   "nbconvert_exporter": "python",
   "pygments_lexer": "ipython3",
   "version": "3.10.13"
  }
 },
 "nbformat": 4,
 "nbformat_minor": 5
}
