{
 "cells": [
  {
   "cell_type": "code",
   "execution_count": null,
   "id": "891575d0-73c3-4251-81b2-1f7cc9a7f402",
   "metadata": {},
   "outputs": [],
   "source": [
    "import json\n",
    "\n",
    "# From the ground_truth.ipynb, we created dataset with\n",
    "# ids on it.\n",
    "with open('doc_with_ids.json', 'rt') as f_in:\n",
    "    documents = json.load(f_in)"
   ]
  },
  {
   "cell_type": "code",
   "execution_count": null,
   "id": "c3501b68-acc4-435a-ad6c-5aaff19d4cba",
   "metadata": {},
   "outputs": [],
   "source": [
    "documents[:5]"
   ]
  },
  {
   "cell_type": "markdown",
   "id": "c24fdc8e-ba04-44a6-addd-71d1f8f042e5",
   "metadata": {},
   "source": [
    "### With elastic search"
   ]
  },
  {
   "cell_type": "code",
   "execution_count": null,
   "id": "f31bf54b-a838-410a-a15d-ea9b31ff7d57",
   "metadata": {},
   "outputs": [],
   "source": [
    "pip install elasticsearch"
   ]
  },
  {
   "cell_type": "code",
   "execution_count": null,
   "id": "92d5a5d8-702d-43cd-b10f-da0e989c3bc3",
   "metadata": {},
   "outputs": [],
   "source": [
    "from elasticsearch import Elasticsearch\n",
    "es_client = Elasticsearch('http://localhost:9200')"
   ]
  },
  {
   "cell_type": "code",
   "execution_count": null,
   "id": "b25df43f-2f2a-49ab-9872-b7b3cfba49b7",
   "metadata": {},
   "outputs": [],
   "source": [
    "index_settings = {\n",
    "    \"settings\": {\n",
    "        \"number_of_shards\": 1,\n",
    "        \"number_of_replicas\": 0\n",
    "    },\n",
    "    \"mappings\": {\n",
    "        \"properties\": {\n",
    "            \"text\": {\"type\": \"text\"},\n",
    "            \"section\": {\"type\": \"text\"},\n",
    "            \"question\": {\"type\": \"text\"},\n",
    "            \"course\": {\"type\": \"keyword\"},\n",
    "            \"id\": {\"type\": \"keyword\"}\n",
    "        }\n",
    "    }\n",
    "}\n",
    "\n",
    "index_name = \"course-questions\"\n",
    "\n",
    "es_client.indices.delete(index=index_name, ignore_unavailable=True) \n",
    "es_client.indices.create(index=index_name, body=index_settings) # Indexes are created"
   ]
  },
  {
   "cell_type": "code",
   "execution_count": null,
   "id": "cdb886e0-72fe-452a-8074-1eb17f17c8ce",
   "metadata": {},
   "outputs": [],
   "source": [
    "from tqdm.auto import tqdm"
   ]
  },
  {
   "cell_type": "code",
   "execution_count": null,
   "id": "c9c0b091-4e24-4c76-8a1c-6f088605bf68",
   "metadata": {},
   "outputs": [],
   "source": [
    "# Added course parameter\n",
    "def elastic_search(query, course):\n",
    "    # search query that we sent to elastic search\n",
    "    search_query = {\n",
    "        \"size\": 5, # we will get 5 answers in the result\n",
    "        \"query\": {\n",
    "            \"bool\": {\n",
    "                \"must\": {\n",
    "                    \"multi_match\": {\n",
    "                        \"query\": query,\n",
    "                        \"fields\": [\"question^3\", \"text\", \"section\"], # question is 3 times more important. boost\n",
    "                        \"type\": \"best_fields\"\n",
    "                    }\n",
    "                },\n",
    "                \"filter\": {\n",
    "                    \"term\": {\n",
    "                        \"course\": course # filtering\n",
    "                    }\n",
    "                }\n",
    "            }\n",
    "        }\n",
    "    }\n",
    "\n",
    "    resp = es_client.search(index=index_name, body=search_query)\n",
    "\n",
    "    result_docs = []\n",
    "\n",
    "    # To format with text, section, question, course\n",
    "    for hit in resp['hits']['hits']:\n",
    "        result_docs.append(hit['_source'])\n",
    "\n",
    "    return result_docs"
   ]
  },
  {
   "cell_type": "code",
   "execution_count": null,
   "id": "5724896c-e9bc-4e18-ba96-0bb3f7aa9706",
   "metadata": {},
   "outputs": [],
   "source": [
    "elastic_search(\n",
    "    query= \"Can I still join the course?\",\n",
    "    course=\"data-engineering-zoomcamp\"\n",
    ")"
   ]
  },
  {
   "cell_type": "markdown",
   "id": "4b133763-ee39-4635-b503-d04ac71a20f1",
   "metadata": {},
   "source": [
    "Now, we are going to iterate over all the queries in ground_truth data "
   ]
  },
  {
   "cell_type": "code",
   "execution_count": null,
   "id": "19481660-5c63-4fd0-bd65-f1eef9f87b00",
   "metadata": {},
   "outputs": [],
   "source": [
    "import pandas as pd"
   ]
  },
  {
   "cell_type": "code",
   "execution_count": null,
   "id": "712124a6-1a05-430f-9b6d-1efa27fa2de2",
   "metadata": {},
   "outputs": [],
   "source": [
    "df_gt = pd.read_csv('ground-truth-data.csv')"
   ]
  },
  {
   "cell_type": "code",
   "execution_count": null,
   "id": "f6e9c72a-350c-40c8-84b1-126080877b0f",
   "metadata": {},
   "outputs": [],
   "source": [
    "gt_dict = df_gt.to_dict(orient='records')"
   ]
  },
  {
   "cell_type": "code",
   "execution_count": null,
   "id": "4d6795c3-d783-4e99-963e-60b50885a57f",
   "metadata": {},
   "outputs": [],
   "source": [
    "relevance_total = []\n",
    "\n",
    "for q in tqdm(gt_dict):\n",
    "    doc_id = q['document'] # The doc_id from ground_truth dataset that AI created\n",
    "    results = elastic_search(query=q['question'], course=q['course']) # Ask the AI question to the elastic search and find relevant questions\n",
    "    relevance = [d['id'] == doc_id for d in results] # If doc_id from ground_truth and elastic search are same, it is relevant\n",
    "    relevance_total.append(relevance)\n"
   ]
  },
  {
   "cell_type": "code",
   "execution_count": null,
   "id": "60434552-9522-4f23-9195-a2a40991b1eb",
   "metadata": {},
   "outputs": [],
   "source": [
    "example = [[True, False, False, False, False],\n",
    " [False, False, False, False, False],\n",
    " [False, False, False, False, False],\n",
    " [False, False, False, False, False],\n",
    " [False, False, False, False, False],\n",
    " [True, False, False, False, False],\n",
    " [True, False, False, False, False],\n",
    " [True, False, False, False, False],\n",
    " [True, False, False, False, False],\n",
    " [True, False, False, False, False],\n",
    " [False, False, True, False, False],\n",
    " [False, False, False, False, False],\n",
    " [False, False, False, True, False],\n",
    " [False, False, False, False, True]]"
   ]
  },
  {
   "cell_type": "markdown",
   "id": "05a26e66-d4fc-426d-aaa8-33e792bd0456",
   "metadata": {},
   "source": [
    "### Evaluating the model"
   ]
  },
  {
   "cell_type": "code",
   "execution_count": null,
   "id": "97f006e7-9413-4b91-a9cf-61c0d4b70d36",
   "metadata": {},
   "outputs": [],
   "source": [
    "def hit_rate(relevance_total):\n",
    "    count=0\n",
    "\n",
    "    for line in relevance_total:\n",
    "        if True in line:\n",
    "            count = count + 1\n",
    "\n",
    "    return count/len(relevance_total)"
   ]
  },
  {
   "cell_type": "code",
   "execution_count": null,
   "id": "11aa0e63-74b7-47fe-8f68-0dee5ceda25f",
   "metadata": {},
   "outputs": [],
   "source": [
    "hit_rate(example)"
   ]
  },
  {
   "cell_type": "code",
   "execution_count": null,
   "id": "50efe396-6dd1-494b-8ba0-fba3e9ee5332",
   "metadata": {},
   "outputs": [],
   "source": [
    "# MRR - According to the relevance\n",
    "\n",
    "# 1 -> 2\n",
    "# 2 -> 1/2 = 0.5\n",
    "# 3 -> 1/3 = 0.333\n",
    "# 4 -> 1/4 = 0.25\n",
    "# 5 -> 1/5 = 0.2\n",
    "# rank = -> 1/rank"
   ]
  },
  {
   "cell_type": "code",
   "execution_count": null,
   "id": "56708964-3b48-46ca-b4ee-8668247673ee",
   "metadata": {},
   "outputs": [],
   "source": [
    "def mrr(relevance_total):\n",
    "    score=0.0\n",
    "\n",
    "    for line in relevance_total:\n",
    "        for rank in range(len(line)): # Now we interested in position\n",
    "            if line[rank] == True:\n",
    "                score = score + (1/(rank+1))\n",
    "\n",
    "    return score/len(relevance_total)"
   ]
  },
  {
   "cell_type": "code",
   "execution_count": null,
   "id": "2f75cce1-f1d6-4acc-94c6-263b9cb68808",
   "metadata": {},
   "outputs": [],
   "source": [
    "mrr(example)"
   ]
  },
  {
   "cell_type": "markdown",
   "id": "1f8a7331-93bd-4dab-865d-99fe97aad5b6",
   "metadata": {},
   "source": [
    "### With minsearch"
   ]
  },
  {
   "cell_type": "code",
   "execution_count": null,
   "id": "f6308e13-9eb8-4f8e-8bbb-f50d6fc52a45",
   "metadata": {},
   "outputs": [],
   "source": [
    "!wget https://raw.githubusercontent.com/alexeygrigorev/minsearch/main/minsearch.py"
   ]
  },
  {
   "cell_type": "code",
   "execution_count": null,
   "id": "f7cd0a92-949d-4f4d-a945-496fed3c6e61",
   "metadata": {},
   "outputs": [],
   "source": [
    "import minsearch\n",
    "\n",
    "index = minsearch.Index(\n",
    "    text_fields=[\"question\", \"text\", \"section\"],\n",
    "    keyword_fields=[\"course\", \"id\"]\n",
    ")\n",
    "\n",
    "index.fit(documents)"
   ]
  },
  {
   "cell_type": "code",
   "execution_count": null,
   "id": "d4203f2c-f074-4161-ab97-ca50a6c273b3",
   "metadata": {},
   "outputs": [],
   "source": [
    "def minsearch_search(query, course):\n",
    "    boost = {'question': 3.0, 'section': 0.5}\n",
    "\n",
    "    results = index.search(\n",
    "        query=query,\n",
    "        filter_dict={'course': q['course']},\n",
    "        boost_dict=boost,\n",
    "        num_results=5\n",
    "    )\n",
    "\n",
    "    return results"
   ]
  },
  {
   "cell_type": "code",
   "execution_count": null,
   "id": "0fcf3349-70dd-4002-bf87-4293a3f28f12",
   "metadata": {},
   "outputs": [],
   "source": [
    "relevance_total = []\n",
    "\n",
    "for q in tqdm(gt_dict):\n",
    "    doc_id = q['document'] # The doc_id from ground_truth dataset that AI created\n",
    "    results = minsearch_search(query=q['question'], course=q['course']) # Ask the AI question to the elastic search and find relevant questions\n",
    "    relevance = [d['id'] == doc_id for d in results] # If doc_id from ground_truth and elastic search are same, it is relevant\n",
    "    relevance_total.append(relevance)\n"
   ]
  },
  {
   "cell_type": "code",
   "execution_count": null,
   "id": "ad6bb0ee-993c-492a-bcc8-d108a8948e72",
   "metadata": {},
   "outputs": [],
   "source": [
    "hit_rate(relevance_total)"
   ]
  },
  {
   "cell_type": "code",
   "execution_count": null,
   "id": "404bdf6f-9bcd-47dc-a16a-9c6080cd3392",
   "metadata": {},
   "outputs": [],
   "source": [
    "mrr(relevance_total)"
   ]
  },
  {
   "cell_type": "code",
   "execution_count": null,
   "id": "e1533dd0-25e5-444b-9a34-7558fcb48351",
   "metadata": {},
   "outputs": [],
   "source": [
    "# Elastic search:\n",
    "# Hit rate: 0.6428571428571429\n",
    "# Mrr: 0.4845238095238095\n",
    "\n",
    "# Minsearch:\n",
    "# Hit rate: 0.7722066133563864\n",
    "# Mrr: 0.661454506159499"
   ]
  },
  {
   "cell_type": "code",
   "execution_count": null,
   "id": "4ac6d9ee-11b5-4ffe-830a-d627803c9009",
   "metadata": {},
   "outputs": [],
   "source": []
  }
 ],
 "metadata": {
  "kernelspec": {
   "display_name": "Python 3 (ipykernel)",
   "language": "python",
   "name": "python3"
  },
  "language_info": {
   "codemirror_mode": {
    "name": "ipython",
    "version": 3
   },
   "file_extension": ".py",
   "mimetype": "text/x-python",
   "name": "python",
   "nbconvert_exporter": "python",
   "pygments_lexer": "ipython3",
   "version": "3.10.13"
  }
 },
 "nbformat": 4,
 "nbformat_minor": 5
}
